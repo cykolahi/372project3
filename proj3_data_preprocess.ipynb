{
 "cells": [
  {
   "cell_type": "markdown",
   "metadata": {},
   "source": [
    "Car Price Prediction: Data Preprocessing\n",
    "\n",
    "Cyrus Kolahi\n",
    "\n",
    "data download link: https://www.kaggle.com/datasets/asinow/car-price-dataset/data"
   ]
  },
  {
   "cell_type": "code",
   "execution_count": null,
   "metadata": {},
   "outputs": [],
   "source": [
    "# Download and save dataset\n",
    "import os\n",
    "import requests\n",
    "\n",
    "# Create data directory if it doesn't exist\n",
    "if not os.path.exists('data'):\n",
    "    os.makedirs('data')\n",
    "\n",
    "# Download dataset from Kaggle\n",
    "# Note: You'll need to download manually from Kaggle since it requires authentication\n",
    "print(\"Please download the dataset from: https://www.kaggle.com/datasets/asinow/car-price-dataset/data\")\n",
    "print(\"Save the downloaded file as 'car_price_dataset.csv' in the 'data' folder\")\n"
   ]
  },
  {
   "cell_type": "code",
   "execution_count": 22,
   "metadata": {},
   "outputs": [],
   "source": [
    "import numpy as np\n",
    "import pandas as pd\n",
    "import matplotlib.pyplot as plt\n",
    "import seaborn as sns\n",
    "import scipy.stats as stats\n",
    "from sklearn.preprocessing import StandardScaler\n",
    "from sklearn.model_selection import train_test_split, GridSearchCV, cross_val_score\n",
    "import sklearn.utils, sklearn.preprocessing, sklearn.decomposition, sklearn.svm\n",
    "from sklearn.metrics import mean_squared_error, r2_score, mean_absolute_error\n",
    "import pickle\n",
    "\n",
    "# machine learning dataloader/model\n",
    "#from torch.utils.data import Dataset, DataLoader\n",
    "#from torchvision import datasets, transforms\n",
    "#from torchvision.utils import make_grid\n",
    "#import torch\n",
    "#import torch.nn as nn\n",
    "#import torch.optim as optim\n",
    "#import torch.nn.functional as F\n"
   ]
  },
  {
   "cell_type": "markdown",
   "metadata": {},
   "source": [
    "Data Creation"
   ]
  },
  {
   "cell_type": "code",
   "execution_count": 4,
   "metadata": {},
   "outputs": [],
   "source": [
    "car_data = pd.read_csv('data/car_price_dataset.csv')\n",
    "df = car_data.copy()"
   ]
  },
  {
   "cell_type": "markdown",
   "metadata": {},
   "source": [
    "Data Feature Analysis"
   ]
  },
  {
   "cell_type": "code",
   "execution_count": 5,
   "metadata": {},
   "outputs": [
    {
     "data": {
      "text/html": [
       "<div>\n",
       "<style scoped>\n",
       "    .dataframe tbody tr th:only-of-type {\n",
       "        vertical-align: middle;\n",
       "    }\n",
       "\n",
       "    .dataframe tbody tr th {\n",
       "        vertical-align: top;\n",
       "    }\n",
       "\n",
       "    .dataframe thead th {\n",
       "        text-align: right;\n",
       "    }\n",
       "</style>\n",
       "<table border=\"1\" class=\"dataframe\">\n",
       "  <thead>\n",
       "    <tr style=\"text-align: right;\">\n",
       "      <th></th>\n",
       "      <th>Brand</th>\n",
       "      <th>Model</th>\n",
       "      <th>Year</th>\n",
       "      <th>Engine_Size</th>\n",
       "      <th>Fuel_Type</th>\n",
       "      <th>Transmission</th>\n",
       "      <th>Mileage</th>\n",
       "      <th>Doors</th>\n",
       "      <th>Owner_Count</th>\n",
       "      <th>Price</th>\n",
       "    </tr>\n",
       "  </thead>\n",
       "  <tbody>\n",
       "    <tr>\n",
       "      <th>0</th>\n",
       "      <td>Kia</td>\n",
       "      <td>Rio</td>\n",
       "      <td>2020</td>\n",
       "      <td>4.2</td>\n",
       "      <td>Diesel</td>\n",
       "      <td>Manual</td>\n",
       "      <td>289944</td>\n",
       "      <td>3</td>\n",
       "      <td>5</td>\n",
       "      <td>8501</td>\n",
       "    </tr>\n",
       "    <tr>\n",
       "      <th>1</th>\n",
       "      <td>Chevrolet</td>\n",
       "      <td>Malibu</td>\n",
       "      <td>2012</td>\n",
       "      <td>2.0</td>\n",
       "      <td>Hybrid</td>\n",
       "      <td>Automatic</td>\n",
       "      <td>5356</td>\n",
       "      <td>2</td>\n",
       "      <td>3</td>\n",
       "      <td>12092</td>\n",
       "    </tr>\n",
       "    <tr>\n",
       "      <th>2</th>\n",
       "      <td>Mercedes</td>\n",
       "      <td>GLA</td>\n",
       "      <td>2020</td>\n",
       "      <td>4.2</td>\n",
       "      <td>Diesel</td>\n",
       "      <td>Automatic</td>\n",
       "      <td>231440</td>\n",
       "      <td>4</td>\n",
       "      <td>2</td>\n",
       "      <td>11171</td>\n",
       "    </tr>\n",
       "    <tr>\n",
       "      <th>3</th>\n",
       "      <td>Audi</td>\n",
       "      <td>Q5</td>\n",
       "      <td>2023</td>\n",
       "      <td>2.0</td>\n",
       "      <td>Electric</td>\n",
       "      <td>Manual</td>\n",
       "      <td>160971</td>\n",
       "      <td>2</td>\n",
       "      <td>1</td>\n",
       "      <td>11780</td>\n",
       "    </tr>\n",
       "    <tr>\n",
       "      <th>4</th>\n",
       "      <td>Volkswagen</td>\n",
       "      <td>Golf</td>\n",
       "      <td>2003</td>\n",
       "      <td>2.6</td>\n",
       "      <td>Hybrid</td>\n",
       "      <td>Semi-Automatic</td>\n",
       "      <td>286618</td>\n",
       "      <td>3</td>\n",
       "      <td>3</td>\n",
       "      <td>2867</td>\n",
       "    </tr>\n",
       "  </tbody>\n",
       "</table>\n",
       "</div>"
      ],
      "text/plain": [
       "        Brand   Model  Year  Engine_Size Fuel_Type    Transmission  Mileage  \\\n",
       "0         Kia     Rio  2020          4.2    Diesel          Manual   289944   \n",
       "1   Chevrolet  Malibu  2012          2.0    Hybrid       Automatic     5356   \n",
       "2    Mercedes     GLA  2020          4.2    Diesel       Automatic   231440   \n",
       "3        Audi      Q5  2023          2.0  Electric          Manual   160971   \n",
       "4  Volkswagen    Golf  2003          2.6    Hybrid  Semi-Automatic   286618   \n",
       "\n",
       "   Doors  Owner_Count  Price  \n",
       "0      3            5   8501  \n",
       "1      2            3  12092  \n",
       "2      4            2  11171  \n",
       "3      2            1  11780  \n",
       "4      3            3   2867  "
      ]
     },
     "execution_count": 5,
     "metadata": {},
     "output_type": "execute_result"
    }
   ],
   "source": [
    "car_data.head()"
   ]
  },
  {
   "cell_type": "code",
   "execution_count": 6,
   "metadata": {},
   "outputs": [
    {
     "data": {
      "text/html": [
       "<div>\n",
       "<style scoped>\n",
       "    .dataframe tbody tr th:only-of-type {\n",
       "        vertical-align: middle;\n",
       "    }\n",
       "\n",
       "    .dataframe tbody tr th {\n",
       "        vertical-align: top;\n",
       "    }\n",
       "\n",
       "    .dataframe thead th {\n",
       "        text-align: right;\n",
       "    }\n",
       "</style>\n",
       "<table border=\"1\" class=\"dataframe\">\n",
       "  <thead>\n",
       "    <tr style=\"text-align: right;\">\n",
       "      <th></th>\n",
       "      <th>count</th>\n",
       "      <th>mean</th>\n",
       "      <th>std</th>\n",
       "      <th>min</th>\n",
       "      <th>25%</th>\n",
       "      <th>50%</th>\n",
       "      <th>75%</th>\n",
       "      <th>max</th>\n",
       "    </tr>\n",
       "  </thead>\n",
       "  <tbody>\n",
       "    <tr>\n",
       "      <th>Year</th>\n",
       "      <td>10000.0</td>\n",
       "      <td>2011.54370</td>\n",
       "      <td>6.897699</td>\n",
       "      <td>2000.0</td>\n",
       "      <td>2006.00</td>\n",
       "      <td>2012.0</td>\n",
       "      <td>2017.0</td>\n",
       "      <td>2023.0</td>\n",
       "    </tr>\n",
       "    <tr>\n",
       "      <th>Engine_Size</th>\n",
       "      <td>10000.0</td>\n",
       "      <td>3.00056</td>\n",
       "      <td>1.149324</td>\n",
       "      <td>1.0</td>\n",
       "      <td>2.00</td>\n",
       "      <td>3.0</td>\n",
       "      <td>4.0</td>\n",
       "      <td>5.0</td>\n",
       "    </tr>\n",
       "    <tr>\n",
       "      <th>Mileage</th>\n",
       "      <td>10000.0</td>\n",
       "      <td>149239.11180</td>\n",
       "      <td>86322.348957</td>\n",
       "      <td>25.0</td>\n",
       "      <td>74649.25</td>\n",
       "      <td>149587.0</td>\n",
       "      <td>223577.5</td>\n",
       "      <td>299947.0</td>\n",
       "    </tr>\n",
       "    <tr>\n",
       "      <th>Doors</th>\n",
       "      <td>10000.0</td>\n",
       "      <td>3.49710</td>\n",
       "      <td>1.110097</td>\n",
       "      <td>2.0</td>\n",
       "      <td>3.00</td>\n",
       "      <td>3.0</td>\n",
       "      <td>4.0</td>\n",
       "      <td>5.0</td>\n",
       "    </tr>\n",
       "    <tr>\n",
       "      <th>Owner_Count</th>\n",
       "      <td>10000.0</td>\n",
       "      <td>2.99110</td>\n",
       "      <td>1.422682</td>\n",
       "      <td>1.0</td>\n",
       "      <td>2.00</td>\n",
       "      <td>3.0</td>\n",
       "      <td>4.0</td>\n",
       "      <td>5.0</td>\n",
       "    </tr>\n",
       "    <tr>\n",
       "      <th>Price</th>\n",
       "      <td>10000.0</td>\n",
       "      <td>8852.96440</td>\n",
       "      <td>3112.596810</td>\n",
       "      <td>2000.0</td>\n",
       "      <td>6646.00</td>\n",
       "      <td>8858.5</td>\n",
       "      <td>11086.5</td>\n",
       "      <td>18301.0</td>\n",
       "    </tr>\n",
       "  </tbody>\n",
       "</table>\n",
       "</div>"
      ],
      "text/plain": [
       "               count          mean           std     min       25%       50%  \\\n",
       "Year         10000.0    2011.54370      6.897699  2000.0   2006.00    2012.0   \n",
       "Engine_Size  10000.0       3.00056      1.149324     1.0      2.00       3.0   \n",
       "Mileage      10000.0  149239.11180  86322.348957    25.0  74649.25  149587.0   \n",
       "Doors        10000.0       3.49710      1.110097     2.0      3.00       3.0   \n",
       "Owner_Count  10000.0       2.99110      1.422682     1.0      2.00       3.0   \n",
       "Price        10000.0    8852.96440   3112.596810  2000.0   6646.00    8858.5   \n",
       "\n",
       "                  75%       max  \n",
       "Year           2017.0    2023.0  \n",
       "Engine_Size       4.0       5.0  \n",
       "Mileage      223577.5  299947.0  \n",
       "Doors             4.0       5.0  \n",
       "Owner_Count       4.0       5.0  \n",
       "Price         11086.5   18301.0  "
      ]
     },
     "execution_count": 6,
     "metadata": {},
     "output_type": "execute_result"
    }
   ],
   "source": [
    "df.describe().T"
   ]
  },
  {
   "cell_type": "code",
   "execution_count": 7,
   "metadata": {},
   "outputs": [
    {
     "data": {
      "text/plain": [
       "Brand           0\n",
       "Model           0\n",
       "Year            0\n",
       "Engine_Size     0\n",
       "Fuel_Type       0\n",
       "Transmission    0\n",
       "Mileage         0\n",
       "Doors           0\n",
       "Owner_Count     0\n",
       "Price           0\n",
       "dtype: int64"
      ]
     },
     "execution_count": 7,
     "metadata": {},
     "output_type": "execute_result"
    }
   ],
   "source": [
    "# No missing data\n",
    "df.isnull().sum()\n",
    "\n"
   ]
  },
  {
   "cell_type": "code",
   "execution_count": 8,
   "metadata": {},
   "outputs": [
    {
     "data": {
      "text/plain": [
       "Brand            object\n",
       "Model            object\n",
       "Year              int64\n",
       "Engine_Size     float64\n",
       "Fuel_Type        object\n",
       "Transmission     object\n",
       "Mileage           int64\n",
       "Doors             int64\n",
       "Owner_Count       int64\n",
       "Price             int64\n",
       "dtype: object"
      ]
     },
     "execution_count": 8,
     "metadata": {},
     "output_type": "execute_result"
    }
   ],
   "source": [
    "\n",
    "# feature data types\n",
    "df.dtypes\n",
    "\n",
    "\n"
   ]
  },
  {
   "cell_type": "code",
   "execution_count": 9,
   "metadata": {},
   "outputs": [
    {
     "data": {
      "image/png": "[encoded data removed]",
      "text/plain": [
       "<Figure size 800x500 with 1 Axes>"
      ]
     },
     "metadata": {},
     "output_type": "display_data"
    }
   ],
   "source": [
    "plt.figure(figsize=(8,5))\n",
    "sns.histplot(df[\"Price\"], bins=30, kde=True)\n",
    "plt.title(\"Distribution of Price\")\n",
    "plt.show()"
   ]
  },
  {
   "cell_type": "code",
   "execution_count": 10,
   "metadata": {},
   "outputs": [
    {
     "name": "stderr",
     "output_type": "stream",
     "text": [
      "/tmp/ipykernel_2791503/2430798461.py:2: FutureWarning: \n",
      "\n",
      "Passing `palette` without assigning `hue` is deprecated and will be removed in v0.14.0. Assign the `x` variable to `hue` and set `legend=False` for the same effect.\n",
      "\n",
      "  sns.countplot(x = \"Year\",data = df, palette = 'dark:#5A9_r')\n"
     ]
    },
    {
     "data": {
      "image/png": "[encoded data removed]",
      "text/plain": [
       "<Figure size 1500x1000 with 1 Axes>"
      ]
     },
     "metadata": {},
     "output_type": "display_data"
    }
   ],
   "source": [
    "plt.figure(figsize = (15,10))\n",
    "sns.countplot(x = \"Year\",data = df, palette = 'dark:#5A9_r')\n",
    "plt.grid(axis = 'y')\n",
    "plt.title(\"\")\n",
    "plt.show()"
   ]
  },
  {
   "cell_type": "markdown",
   "metadata": {},
   "source": [
    "Just going by intuition I feel like the year feature is going to be the most significant feature in predicting the price of a car. It is good then that we have an even distribution of cars across the years. And a normal distribution of price. Below I will plot the correlation matrix of the features to cofirm this intuition."
   ]
  },
  {
   "cell_type": "code",
   "execution_count": 11,
   "metadata": {},
   "outputs": [
    {
     "data": {
      "image/png": "[encoded data removed]",
      "text/plain": [
       "<Figure size 1000x700 with 1 Axes>"
      ]
     },
     "metadata": {},
     "output_type": "display_data"
    }
   ],
   "source": [
    "corr_df = df[[\"Year\",\"Engine_Size\",\"Mileage\",\"Doors\",\"Owner_Count\",\"Price\"]].corr()\n",
    "plt.figure(figsize= (10,7))\n",
    "sns.heatmap(corr_df,annot = True,fmt =\"g\", linewidths=.5, cbar=False)\n",
    "plt.title(\"Heatmap of Correlation\")\n",
    "plt.show()"
   ]
  },
  {
   "cell_type": "markdown",
   "metadata": {},
   "source": [
    "We can see that the year and engine size are the most positively correlated features with the price of the car. Mileage is the most negatively correlated feature with the price of the car."
   ]
  },
  {
   "cell_type": "code",
   "execution_count": 12,
   "metadata": {},
   "outputs": [
    {
     "data": {
      "text/plain": [
       "Brand\n",
       "Ford          1048\n",
       "Audi          1038\n",
       "Volkswagen    1020\n",
       "Honda         1009\n",
       "Chevrolet     1003\n",
       "BMW            999\n",
       "Hyundai        995\n",
       "Kia            976\n",
       "Toyota         970\n",
       "Mercedes       942\n",
       "Name: count, dtype: int64"
      ]
     },
     "execution_count": 12,
     "metadata": {},
     "output_type": "execute_result"
    }
   ],
   "source": [
    "df[\"Brand\"].value_counts()"
   ]
  },
  {
   "cell_type": "code",
   "execution_count": 13,
   "metadata": {},
   "outputs": [
    {
     "name": "stdout",
     "output_type": "stream",
     "text": [
      "Number of unique models: 30\n"
     ]
    }
   ],
   "source": [
    "print(f\"Number of unique models: {len(df['Model'].value_counts())}\")"
   ]
  },
  {
   "cell_type": "markdown",
   "metadata": {},
   "source": [
    "Now that we have a basic understanding of the data, we can start to preprocess the data for machine learning."
   ]
  },
  {
   "cell_type": "code",
   "execution_count": null,
   "metadata": {},
   "outputs": [
    {
     "name": "stdout",
     "output_type": "stream",
     "text": [
      "P-value of ANOVA Test between Brand and Price: 0.19027637004777526\n"
     ]
    }
   ],
   "source": [
    "# show that brand feature is not very significant in price prediction, but could still be useful\n",
    "anova_result = stats.f_oneway(*(df[df[\"Brand\"] == brand][\"Price\"] for brand in df[\"Brand\"].unique()))\n",
    "print(\"P-value of ANOVA Test between Brand and Price:\", anova_result.pvalue)"
   ]
  },
  {
   "cell_type": "code",
   "execution_count": 15,
   "metadata": {},
   "outputs": [
    {
     "name": "stdout",
     "output_type": "stream",
     "text": [
      "P-value of ANOVA Test between Model and Price: 0.8177865225247964\n"
     ]
    }
   ],
   "source": [
    "# show that model feature is not significant in price prediction\n",
    "anova_result = stats.f_oneway(*(df[df[\"Model\"] == model][\"Price\"] for model in df[\"Model\"].unique()))\n",
    "print(\"P-value of ANOVA Test between Model and Price:\", anova_result.pvalue)"
   ]
  },
  {
   "cell_type": "markdown",
   "metadata": {},
   "source": [
    "Create One-Hot Encoded Features and Remove Brand and Model feautures (would create too many one-hot encoded features and would not be very significant in price prediction)"
   ]
  },
  {
   "cell_type": "code",
   "execution_count": 16,
   "metadata": {},
   "outputs": [
    {
     "data": {
      "text/html": [
       "<div>\n",
       "<style scoped>\n",
       "    .dataframe tbody tr th:only-of-type {\n",
       "        vertical-align: middle;\n",
       "    }\n",
       "\n",
       "    .dataframe tbody tr th {\n",
       "        vertical-align: top;\n",
       "    }\n",
       "\n",
       "    .dataframe thead th {\n",
       "        text-align: right;\n",
       "    }\n",
       "</style>\n",
       "<table border=\"1\" class=\"dataframe\">\n",
       "  <thead>\n",
       "    <tr style=\"text-align: right;\">\n",
       "      <th></th>\n",
       "      <th>Year</th>\n",
       "      <th>Engine_Size</th>\n",
       "      <th>Mileage</th>\n",
       "      <th>Doors</th>\n",
       "      <th>Owner_Count</th>\n",
       "      <th>Price</th>\n",
       "      <th>Fuel_Electric</th>\n",
       "      <th>Fuel_Hybrid</th>\n",
       "      <th>Fuel_Petrol</th>\n",
       "      <th>Trans_Manual</th>\n",
       "      <th>Trans_Semi-Automatic</th>\n",
       "    </tr>\n",
       "  </thead>\n",
       "  <tbody>\n",
       "    <tr>\n",
       "      <th>0</th>\n",
       "      <td>2020</td>\n",
       "      <td>4.2</td>\n",
       "      <td>289944</td>\n",
       "      <td>3</td>\n",
       "      <td>5</td>\n",
       "      <td>8501</td>\n",
       "      <td>0</td>\n",
       "      <td>0</td>\n",
       "      <td>0</td>\n",
       "      <td>1</td>\n",
       "      <td>0</td>\n",
       "    </tr>\n",
       "    <tr>\n",
       "      <th>1</th>\n",
       "      <td>2012</td>\n",
       "      <td>2.0</td>\n",
       "      <td>5356</td>\n",
       "      <td>2</td>\n",
       "      <td>3</td>\n",
       "      <td>12092</td>\n",
       "      <td>0</td>\n",
       "      <td>1</td>\n",
       "      <td>0</td>\n",
       "      <td>0</td>\n",
       "      <td>0</td>\n",
       "    </tr>\n",
       "    <tr>\n",
       "      <th>2</th>\n",
       "      <td>2020</td>\n",
       "      <td>4.2</td>\n",
       "      <td>231440</td>\n",
       "      <td>4</td>\n",
       "      <td>2</td>\n",
       "      <td>11171</td>\n",
       "      <td>0</td>\n",
       "      <td>0</td>\n",
       "      <td>0</td>\n",
       "      <td>0</td>\n",
       "      <td>0</td>\n",
       "    </tr>\n",
       "    <tr>\n",
       "      <th>3</th>\n",
       "      <td>2023</td>\n",
       "      <td>2.0</td>\n",
       "      <td>160971</td>\n",
       "      <td>2</td>\n",
       "      <td>1</td>\n",
       "      <td>11780</td>\n",
       "      <td>1</td>\n",
       "      <td>0</td>\n",
       "      <td>0</td>\n",
       "      <td>1</td>\n",
       "      <td>0</td>\n",
       "    </tr>\n",
       "    <tr>\n",
       "      <th>4</th>\n",
       "      <td>2003</td>\n",
       "      <td>2.6</td>\n",
       "      <td>286618</td>\n",
       "      <td>3</td>\n",
       "      <td>3</td>\n",
       "      <td>2867</td>\n",
       "      <td>0</td>\n",
       "      <td>1</td>\n",
       "      <td>0</td>\n",
       "      <td>0</td>\n",
       "      <td>1</td>\n",
       "    </tr>\n",
       "  </tbody>\n",
       "</table>\n",
       "</div>"
      ],
      "text/plain": [
       "   Year  Engine_Size  Mileage  Doors  Owner_Count  Price  Fuel_Electric  \\\n",
       "0  2020          4.2   289944      3            5   8501              0   \n",
       "1  2012          2.0     5356      2            3  12092              0   \n",
       "2  2020          4.2   231440      4            2  11171              0   \n",
       "3  2023          2.0   160971      2            1  11780              1   \n",
       "4  2003          2.6   286618      3            3   2867              0   \n",
       "\n",
       "   Fuel_Hybrid  Fuel_Petrol  Trans_Manual  Trans_Semi-Automatic  \n",
       "0            0            0             1                     0  \n",
       "1            1            0             0                     0  \n",
       "2            0            0             0                     0  \n",
       "3            0            0             1                     0  \n",
       "4            1            0             0                     1  "
      ]
     },
     "execution_count": 16,
     "metadata": {},
     "output_type": "execute_result"
    }
   ],
   "source": [
    "df_one_hot = pd.get_dummies(data = df , columns = [\"Fuel_Type\", \"Transmission\"], prefix = [\"Fuel\",\"Trans\"],drop_first = True)\n",
    "bool_columns = df_one_hot.select_dtypes(include = \"bool\").columns\n",
    "df_one_hot[bool_columns] = df_one_hot[bool_columns].astype(int)\n",
    "df_one_hot = df_one_hot.drop(columns = [\"Brand\",\"Model\"]) \n",
    "df_one_hot.head()"
   ]
  },
  {
   "cell_type": "markdown",
   "metadata": {},
   "source": [
    "Create Train and Test Set"
   ]
  },
  {
   "cell_type": "code",
   "execution_count": 24,
   "metadata": {},
   "outputs": [
    {
     "name": "stdout",
     "output_type": "stream",
     "text": [
      "Length of X_train: 8000, length of X_test: 2000\n",
      "length of y_train: 8000, length of y_test: 2000\n",
      "Number of features: 10\n",
      "          Year  Engine_Size   Mileage     Doors  Owner_Count  Fuel_Electric  \\\n",
      "9254 -0.655377     0.176135 -1.333932  1.346373     0.709567              0   \n",
      "1561 -0.220429     1.563621  0.870313 -1.352896    -1.401979              1   \n",
      "1670 -0.800360    -0.951198 -1.570781 -0.453140     1.413416              0   \n",
      "6087  1.084418    -1.124633  0.581575 -1.352896     0.005719              0   \n",
      "6669 -0.945343     0.523006 -1.722892 -0.453140    -0.698130              0   \n",
      "\n",
      "      Fuel_Hybrid  Fuel_Petrol  Trans_Manual  Trans_Semi-Automatic  \n",
      "9254            1            0             0                     1  \n",
      "1561            0            0             0                     1  \n",
      "1670            1            0             0                     1  \n",
      "6087            0            0             0                     1  \n",
      "6669            0            1             0                     0  \n"
     ]
    }
   ],
   "source": [
    "\n",
    "X = df_one_hot.drop(columns=[\"Price\"])\n",
    "y = df_one_hot[\"Price\"]\n",
    "\n",
    "numeric_columns = [\"Year\", \"Engine_Size\", \"Mileage\", \"Doors\", \"Owner_Count\"]\n",
    "\n",
    "\n",
    "X_train, X_test, y_train, y_test = train_test_split(X, y, test_size=0.2, random_state=42)\n",
    "\n",
    "\n",
    "scaler = StandardScaler()\n",
    "X_train[numeric_columns] = scaler.fit_transform(X_train[numeric_columns])  \n",
    "X_test[numeric_columns] = scaler.transform(X_test[numeric_columns])  \n",
    "\n",
    "\n",
    "print(f\"Length of X_train: {len(X_train)}, length of X_test: {len(X_test)}\")\n",
    "print(f\"length of y_train: {len(y_train)}, length of y_test: {len(y_test)}\")\n",
    "print(f\"Number of features: {len(X_train.columns)}\")\n",
    "print(X_train.head())"
   ]
  },
  {
   "cell_type": "code",
   "execution_count": 27,
   "metadata": {},
   "outputs": [],
   "source": [
    "X1 = df_one_hot.drop(columns=[\"Price\"])\n",
    "y1 = df_one_hot[\"Price\"]\n",
    "\n",
    "numeric_columns = [\"Year\", \"Engine_Size\", \"Mileage\", \"Doors\", \"Owner_Count\"]\n",
    "\n",
    "X_train, X_test, y_train, y_test = train_test_split(X1, y1, test_size=0.3, random_state=42)\n",
    "X_val, X_test, y_val, y_test = train_test_split(X_test, y_test, test_size=0.5, random_state=42)\n",
    "\n",
    "\n",
    "\n",
    "\n",
    "X_train.to_csv(\"data/X1_train.csv\", index=False)\n",
    "X_test.to_csv(\"data/X1_test.csv\", index=False)\n",
    "X_val.to_csv(\"data/X1_val.csv\", index=False)\n",
    "y_train.to_csv(\"data/y1_train.csv\", index=False)\n",
    "y_test.to_csv(\"data/y1_test.csv\", index=False)\n",
    "y_val.to_csv(\"data/y1_val.csv\", index=False) \n",
    "\n"
   ]
  },
  {
   "cell_type": "code",
   "execution_count": 28,
   "metadata": {},
   "outputs": [],
   "source": [
    "# Create separate scalers for different types of features\n",
    "scalers = {}\n",
    "\n",
    "scalers['Year'] = StandardScaler()\n",
    "X_train['Year'] = scalers['Year'].fit_transform(X_train[['Year']])\n",
    "X_test['Year'] = scalers['Year'].transform(X_test[['Year']])\n",
    "X_val['Year'] = scalers['Year'].transform(X_val[['Year']])\n",
    "\n",
    "scalers['Engine_Size'] = StandardScaler()\n",
    "X_train['Engine_Size'] = scalers['Engine_Size'].fit_transform(X_train[['Engine_Size']])\n",
    "X_test['Engine_Size'] = scalers['Engine_Size'].transform(X_test[['Engine_Size']])\n",
    "X_val['Engine_Size'] = scalers['Engine_Size'].transform(X_val[['Engine_Size']])\n",
    "\n",
    "scalers['Mileage'] = StandardScaler()  \n",
    "X_train['Mileage'] = scalers['Mileage'].fit_transform(X_train[['Mileage']])\n",
    "X_test['Mileage'] = scalers['Mileage'].transform(X_test[['Mileage']])\n",
    "X_val['Mileage'] = scalers['Mileage'].transform(X_val[['Mileage']])\n",
    "\n",
    "scalers['Doors'] = StandardScaler()\n",
    "X_train['Doors'] = scalers['Doors'].fit_transform(X_train[['Doors']])\n",
    "X_test['Doors'] = scalers['Doors'].transform(X_test[['Doors']])\n",
    "X_val['Doors'] = scalers['Doors'].transform(X_val[['Doors']])\n",
    "\n",
    "scalers['Owner_Count'] = StandardScaler()\n",
    "X_train['Owner_Count'] = scalers['Owner_Count'].fit_transform(X_train[['Owner_Count']])\n",
    "X_test['Owner_Count'] = scalers['Owner_Count'].transform(X_test[['Owner_Count']])\n",
    "X_val['Owner_Count'] = scalers['Owner_Count'].transform(X_val[['Owner_Count']])\n",
    "\n",
    "scaler_y = StandardScaler()\n",
    "y_train = pd.DataFrame(scaler_y.fit_transform(y_train.values))\n",
    "y_test = pd.DataFrame(scaler_y.transform(y_test.values))\n",
    "y_val = pd.DataFrame(scaler_y.transform(y_val.values))\n",
    "\n",
    "with open('data/scalers.pkl', 'wb') as f:\n",
    "    pickle.dump(scalers, f)\n",
    "\n",
    "X_train.to_csv(\"data/X_train_scaled.csv\", index=False)\n",
    "X_test.to_csv(\"data/X_test_scaled.csv\", index=False)\n",
    "X_val.to_csv(\"data/X_val_scaled.csv\", index=False)\n",
    "y_train.to_csv(\"data/y_train_scaled.csv\", index=False)\n",
    "y_test.to_csv(\"data/y_test_scaled.csv\", index=False)\n",
    "y_val.to_csv(\"data/y_val_scaled.csv\", index=False)\n"
   ]
  },
  {
   "cell_type": "markdown",
   "metadata": {},
   "source": [
    "Save the Preprocessed Data to data folder to be used for training and testing the model"
   ]
  },
  {
   "cell_type": "code",
   "execution_count": 51,
   "metadata": {},
   "outputs": [],
   "source": [
    "X_train.to_csv(\"data/X_train.csv\", index=False)\n",
    "X_test.to_csv(\"data/X_test.csv\", index=False)\n",
    "y_train.to_csv(\"data/y_train.csv\", index=False)\n",
    "y_test.to_csv(\"data/y_test.csv\", index=False)\n"
   ]
  }
 ],
 "metadata": {
  "kernelspec": {
   "display_name": "Python 3",
   "language": "python",
   "name": "python3"
  },
  "language_info": {
   "codemirror_mode": {
    "name": "ipython",
    "version": 3
   },
   "file_extension": ".py",
   "mimetype": "text/x-python",
   "name": "python",
   "nbconvert_exporter": "python",
   "pygments_lexer": "ipython3",
   "version": "3.9.21"
  }
 },
 "nbformat": 4,
 "nbformat_minor": 2
}
