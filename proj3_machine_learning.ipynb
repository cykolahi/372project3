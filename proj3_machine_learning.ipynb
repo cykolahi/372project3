{
 "cells": [
  {
   "cell_type": "markdown",
   "metadata": {},
   "source": [
    "Car Price Prediction: Machine Leaning Models\n",
    "\n",
    "Cyrus Kolahi\n",
    "\n",
    "run proj3_data_preprocess.ipynb to preprocess and create train and test set"
   ]
  },
  {
   "cell_type": "code",
   "execution_count": 78,
   "metadata": {},
   "outputs": [],
   "source": [
    "import numpy as np\n",
    "import pandas as pd\n",
    "import matplotlib.pyplot as plt\n",
    "import seaborn as sns\n",
    "import sklearn as skl\n",
    "import sklearn.utils, sklearn.preprocessing, sklearn.decomposition, sklearn.svm\n",
    "import torch\n",
    "import torch.nn as nn\n",
    "import torch.optim as optim\n",
    "import torch.utils.data as data\n",
    "import torchvision\n",
    "import torchvision.transforms as transforms\n",
    "from torch.utils.data import Dataset, DataLoader, TensorDataset\n",
    "\n",
    "from sklearn.linear_model import LinearRegression\n",
    "from sklearn.kernel_ridge import KernelRidge\n",
    "from sklearn.svm import SVR\n",
    "from sklearn.tree import DecisionTreeRegressor\n",
    "from sklearn.ensemble import RandomForestRegressor\n",
    "from sklearn.metrics import mean_squared_error, r2_score\n",
    "\n",
    "from tqdm import tqdm\n",
    "import pickle\n",
    "\n",
    "\n"
   ]
  },
  {
   "cell_type": "markdown",
   "metadata": {},
   "source": [
    "load data from data folder"
   ]
  },
  {
   "cell_type": "code",
   "execution_count": 153,
   "metadata": {},
   "outputs": [],
   "source": [
    "X_train = pd.read_csv(\"data/X_train_scaled.csv\")\n",
    "X_test = pd.read_csv(\"data/X_test_scaled.csv\")\n",
    "X_val = pd.read_csv(\"data/X_val_scaled.csv\")\n",
    "y_train = pd.read_csv(\"data/y_train_scaled.csv\")\n",
    "y_test = pd.read_csv(\"data/y_test_scaled.csv\")\n",
    "y_val = pd.read_csv(\"data/y_val_scaled.csv\")\n"
   ]
  },
  {
   "cell_type": "markdown",
   "metadata": {},
   "source": [
    "Modeling"
   ]
  },
  {
   "cell_type": "markdown",
   "metadata": {},
   "source": [
    "Basic Linear Regression:"
   ]
  },
  {
   "cell_type": "code",
   "execution_count": 163,
   "metadata": {},
   "outputs": [
    {
     "name": "stdout",
     "output_type": "stream",
     "text": [
      "Linear Regression Results:\n",
      "Test MSE: 0.00\n",
      "Val MSE: 0.00\n",
      "Test R2 Score: 1.00\n",
      "Val R2 Score: 1.00\n"
     ]
    }
   ],
   "source": [
    "LinReg = LinearRegression()\n",
    "LinReg.fit(X_train, y_train)\n",
    "lr_val_pred = LinReg.predict(X_val)\n",
    "lr_pred = LinReg.predict(X_test)\n",
    "print(\"Linear Regression Results:\")\n",
    "print(f\"Test MSE: {mean_squared_error(y_test, lr_pred):.2f}\")\n",
    "print(f\"Val MSE: {mean_squared_error(y_val, lr_val_pred):.2f}\")\n",
    "print(f\"Test R2 Score: {r2_score(y_test, lr_pred):.2f}\")\n",
    "print(f\"Val R2 Score: {r2_score(y_val, lr_val_pred):.2f}\")"
   ]
  },
  {
   "cell_type": "markdown",
   "metadata": {},
   "source": [
    "Regression with Kernels:"
   ]
  },
  {
   "cell_type": "code",
   "execution_count": 165,
   "metadata": {},
   "outputs": [
    {
     "name": "stdout",
     "output_type": "stream",
     "text": [
      "Regression with linear kernel Results:\n",
      "Test MSE: 0.00\n",
      "Val MSE: 0.00\n",
      "Test R2 Score: 1.00\n",
      "Val R2 Score: 1.00\n",
      "\n",
      "Regression with rbf kernel Results:\n",
      "Test MSE: 0.00\n",
      "Val MSE: 0.00\n",
      "Test R2 Score: 1.00\n",
      "Val R2 Score: 1.00\n",
      "\n",
      "Regression with poly kernel Results:\n",
      "Test MSE: 0.00\n",
      "Val MSE: 0.00\n",
      "Test R2 Score: 1.00\n",
      "Val R2 Score: 1.00\n",
      "\n"
     ]
    }
   ],
   "source": [
    "kernels = ['linear', 'rbf', 'poly']\n",
    "for kernel in kernels:\n",
    "    kr = KernelRidge(kernel=kernel)\n",
    "    kr.fit(X_train, y_train)\n",
    "    test_pred = kr.predict(X_test)\n",
    "    val_pred = kr.predict(X_val)\n",
    "    print(f\"Regression with {kernel} kernel Results:\")\n",
    "    print(f\"Test MSE: {mean_squared_error(y_test, test_pred):.2f}\")\n",
    "    print(f\"Val MSE: {mean_squared_error(y_val, val_pred):.2f}\")\n",
    "    print(f\"Test R2 Score: {r2_score(y_test, test_pred):.2f}\")\n",
    "    print(f\"Val R2 Score: {r2_score(y_val, val_pred):.2f}\\n\")\n"
   ]
  },
  {
   "cell_type": "markdown",
   "metadata": {},
   "source": [
    "Support Vector Regression with different kernels:"
   ]
  },
  {
   "cell_type": "code",
   "execution_count": 166,
   "metadata": {},
   "outputs": [
    {
     "name": "stderr",
     "output_type": "stream",
     "text": [
      "/home/ckolahi/.conda/envs/dlproject_v4/lib/python3.9/site-packages/sklearn/utils/validation.py:1408: DataConversionWarning: A column-vector y was passed when a 1d array was expected. Please change the shape of y to (n_samples, ), for example using ravel().\n",
      "  y = column_or_1d(y, warn=True)\n",
      "/home/ckolahi/.conda/envs/dlproject_v4/lib/python3.9/site-packages/sklearn/utils/validation.py:1408: DataConversionWarning: A column-vector y was passed when a 1d array was expected. Please change the shape of y to (n_samples, ), for example using ravel().\n",
      "  y = column_or_1d(y, warn=True)\n"
     ]
    },
    {
     "name": "stdout",
     "output_type": "stream",
     "text": [
      "Support Vector Regression (linear kernel) Results:\n",
      "Test MSE: 0.00\n",
      "Val MSE: 0.00\n",
      "Test R2 Score: 1.00\n",
      "Val R2 Score: 1.00\n",
      "\n",
      "Support Vector Regression (rbf kernel) Results:\n",
      "Test MSE: 0.00\n",
      "Val MSE: 0.00\n",
      "Test R2 Score: 1.00\n",
      "Val R2 Score: 1.00\n",
      "\n"
     ]
    },
    {
     "name": "stderr",
     "output_type": "stream",
     "text": [
      "/home/ckolahi/.conda/envs/dlproject_v4/lib/python3.9/site-packages/sklearn/utils/validation.py:1408: DataConversionWarning: A column-vector y was passed when a 1d array was expected. Please change the shape of y to (n_samples, ), for example using ravel().\n",
      "  y = column_or_1d(y, warn=True)\n"
     ]
    },
    {
     "name": "stdout",
     "output_type": "stream",
     "text": [
      "Support Vector Regression (poly kernel) Results:\n",
      "Test MSE: 0.05\n",
      "Val MSE: 0.05\n",
      "Test R2 Score: 0.95\n",
      "Val R2 Score: 0.95\n",
      "\n"
     ]
    }
   ],
   "source": [
    "for kernel in ['linear', 'rbf', 'poly']:\n",
    "    svr = SVR(kernel=kernel)\n",
    "    svr.fit(X_train, y_train)\n",
    "    svr_pred = svr.predict(X_test)\n",
    "    svr_val_pred = svr.predict(X_val)\n",
    "    print(f\"Support Vector Regression ({kernel} kernel) Results:\")\n",
    "    print(f\"Test MSE: {mean_squared_error(y_test, svr_pred):.2f}\")\n",
    "    print(f\"Val MSE: {mean_squared_error(y_val, svr_val_pred):.2f}\")\n",
    "    print(f\"Test R2 Score: {r2_score(y_test, svr_pred):.2f}\")\n",
    "    print(f\"Val R2 Score: {r2_score(y_val, svr_val_pred):.2f}\\n\")"
   ]
  },
  {
   "cell_type": "markdown",
   "metadata": {},
   "source": [
    "Decision Tree"
   ]
  },
  {
   "cell_type": "code",
   "execution_count": 170,
   "metadata": {},
   "outputs": [
    {
     "name": "stdout",
     "output_type": "stream",
     "text": [
      "Decision Tree Results:\n",
      "Test MSE: 0.07\n",
      "Val MSE: 0.08\n",
      "Test R2 Score: 0.93\n",
      "Val R2 Score: 0.92\n",
      "\n"
     ]
    }
   ],
   "source": [
    "dt = DecisionTreeRegressor(random_state=9)\n",
    "dt.fit(X_train, y_train)\n",
    "test_pred = dt.predict(X_test)\n",
    "val_pred = dt.predict(X_val)\n",
    "print(\"Decision Tree Results:\")\n",
    "print(f\"Test MSE: {mean_squared_error(y_test, test_pred):.2f}\")\n",
    "print(f\"Val MSE: {mean_squared_error(y_val, val_pred):.2f}\")\n",
    "print(f\"Test R2 Score: {r2_score(y_test, test_pred):.2f}\")\n",
    "print(f\"Val R2 Score: {r2_score(y_val, val_pred):.2f}\\n\")"
   ]
  },
  {
   "cell_type": "markdown",
   "metadata": {},
   "source": [
    "Random Forest"
   ]
  },
  {
   "cell_type": "code",
   "execution_count": 171,
   "metadata": {},
   "outputs": [
    {
     "name": "stderr",
     "output_type": "stream",
     "text": [
      "/home/ckolahi/.conda/envs/dlproject_v4/lib/python3.9/site-packages/sklearn/base.py:1389: DataConversionWarning: A column-vector y was passed when a 1d array was expected. Please change the shape of y to (n_samples,), for example using ravel().\n",
      "  return fit_method(estimator, *args, **kwargs)\n"
     ]
    },
    {
     "name": "stdout",
     "output_type": "stream",
     "text": [
      "Random Forest Results:\n",
      "Test MSE: 0.03\n",
      "Val MSE: 0.03\n",
      "Test R2 Score: 0.97\n",
      "Val R2 Score: 0.97\n",
      "\n"
     ]
    }
   ],
   "source": [
    "rf = RandomForestRegressor(n_estimators=100, random_state=20)\n",
    "rf.fit(X_train, y_train)\n",
    "test_pred = rf.predict(X_test)\n",
    "val_pred = rf.predict(X_val)\n",
    "print(\"Random Forest Results:\")\n",
    "print(f\"Test MSE: {mean_squared_error(y_test, test_pred):.2f}\")\n",
    "print(f\"Val MSE: {mean_squared_error(y_val, val_pred):.2f}\")\n",
    "print(f\"Test R2 Score: {r2_score(y_test, test_pred):.2f}\")\n",
    "print(f\"Val R2 Score: {r2_score(y_val, val_pred):.2f}\\n\")\n"
   ]
  },
  {
   "cell_type": "markdown",
   "metadata": {},
   "source": [
    "Neural Network:"
   ]
  },
  {
   "cell_type": "code",
   "execution_count": 148,
   "metadata": {},
   "outputs": [],
   "source": [
    "class CarPriceNN(nn.Module):\n",
    "    def __init__(self, input_dim):\n",
    "        super(CarPriceNN, self).__init__()\n",
    "        \n",
    "        # First block with wider layers\n",
    "        self.layer1 = nn.Sequential(\n",
    "            nn.Linear(input_dim, 64),\n",
    "            nn.BatchNorm1d(64),\n",
    "            nn.ReLU(),\n",
    "            nn.Dropout(0.2)\n",
    "        )\n",
    "        \n",
    "        # Second block with residual connection\n",
    "        self.layer2 = nn.Sequential(\n",
    "            nn.Linear(64, 64),\n",
    "            nn.BatchNorm1d(64),\n",
    "            nn.ReLU(),\n",
    "            nn.Dropout(0.2)\n",
    "        )\n",
    "        \n",
    "        # Third block decreasing dimensions\n",
    "        self.layer3 = nn.Sequential(\n",
    "            nn.Linear(64, 32),\n",
    "            nn.BatchNorm1d(32),\n",
    "            nn.ReLU(),\n",
    "            nn.Dropout(0.2)\n",
    "        )\n",
    "        \n",
    "        # Final prediction layers\n",
    "        self.output_layers = nn.Sequential(\n",
    "            nn.Linear(32, 16),\n",
    "            nn.ReLU(),\n",
    "            nn.Linear(16, 1),\n",
    "        )\n",
    "        \n",
    "        # Initialize weights\n",
    "        #self.apply(self._init_weights)\n",
    "        \n",
    "    def _init_weights(self, module):\n",
    "        if isinstance(module, nn.Linear):\n",
    "            nn.init.kaiming_normal_(module.weight, nonlinearity='relu')\n",
    "            if module.bias is not None:\n",
    "                nn.init.constant_(module.bias, 0)\n",
    "                \n",
    "    def forward(self, x):\n",
    "        # Forward pass with residual connection\n",
    "        x1 = self.layer1(x)\n",
    "        x2 = self.layer2(x1)\n",
    "        x3 = self.layer3(x2)\n",
    "        out = self.output_layers(x3)\n",
    "        return out\n",
    "\n",
    "def calculate_r2(y_true, y_pred):\n",
    "    # Ensure inputs are the right shape and scale\n",
    "    y_true = y_true.squeeze()  # Remove extra dimensions\n",
    "    y_pred = y_pred.squeeze()\n",
    "    \n",
    "    # Convert to numpy if they're torch tensors\n",
    "    if torch.is_tensor(y_true):\n",
    "        y_true = y_true.detach().cpu().numpy()\n",
    "    if torch.is_tensor(y_pred):\n",
    "        y_pred = y_pred.detach().cpu().numpy()\n",
    "    \n",
    "    # Calculate R2\n",
    "    ss_res = np.sum((y_true - y_pred) ** 2)\n",
    "    ss_tot = np.sum((y_true - np.mean(y_true)) ** 2)\n",
    "    r2 = 1 - (ss_res / ss_tot)\n",
    "    return r2\n",
    "\n",
    "def train_model(model, train_loader, val_loader, test_loader, epochs=50):\n",
    "    criterion = nn.MSELoss()\n",
    "    optimizer = optim.Adam(model.parameters(), lr=0.001, weight_decay=0.01)\n",
    "\n",
    "    \n",
    "    best_val_loss = float('inf')\n",
    "    patience_counter = 0\n",
    "    patience = 10  # Early stopping patience\n",
    "    \n",
    "    for epoch in tqdm(range(epochs)):\n",
    "        # Training\n",
    "        model.train()\n",
    "        train_loss = 0\n",
    "        for X_batch, y_batch in train_loader:\n",
    "            y_batch = y_batch\n",
    "            #print(y_batch.shape, X_batch.shape)\n",
    "\n",
    "            optimizer.zero_grad()\n",
    "            y_pred = model(X_batch)\n",
    "            loss = criterion(y_pred, y_batch)\n",
    "            loss.backward()\n",
    "            optimizer.step()\n",
    "            train_loss += loss.item()\n",
    "            \n",
    "        # Validation/Test\n",
    "        model.eval()\n",
    "        val_preds =[]\n",
    "        val_true=[]\n",
    "        test_preds=[]\n",
    "        test_true=[]\n",
    "        val_loss = 0\n",
    "        test_loss = 0\n",
    "\n",
    "        with torch.no_grad():\n",
    "            for X_batch, y_batch in val_loader:\n",
    "                #y_batch = y_batch\n",
    "                #print(y_batch.shape, X_batch.shape)\n",
    "                y_pred = model(X_batch)\n",
    "                val_loss += criterion(y_pred, y_batch).item()\n",
    "                val_preds.append(y_pred)\n",
    "                val_true.append(y_batch)\n",
    "        \n",
    "\n",
    "            for X_batch, y_batch in test_loader:\n",
    "                #y_batch = y_batch\n",
    "                #print(y_batch.shape, X_batch.shape)\n",
    "                y_pred = model(X_batch)\n",
    "                test_loss += criterion(y_pred, y_batch).item()\n",
    "                test_preds.append(y_pred)\n",
    "                test_true.append(y_batch)\n",
    "            \n",
    "        # Average losses\n",
    "        avg_train_loss = train_loss / len(train_loader)\n",
    "        avg_val_loss = val_loss / len(val_loader)\n",
    "        avg_test_loss = test_loss / len(test_loader)\n",
    "        \n",
    "         # Concatenate all predictions and true values\n",
    "        val_true = torch.cat(val_true)\n",
    "        val_pred = torch.cat(val_preds)\n",
    "        test_true = torch.cat(test_true)\n",
    "        test_pred = torch.cat(test_preds)\n",
    "\n",
    "    \n",
    "        # Calculate R2 score\n",
    "        val_r2 = calculate_r2(val_true, val_pred)\n",
    "        test_r2 = calculate_r2(test_true, test_pred)\n",
    "    \n",
    "       \n",
    "        \n",
    "        # Early stopping\n",
    "        if avg_val_loss < best_val_loss:\n",
    "            best_val_loss = avg_val_loss\n",
    "            patience_counter = 0\n",
    "        else:\n",
    "            patience_counter += 1\n",
    "            \n",
    "        if patience_counter >= patience:\n",
    "            print(f'Early stopping at epoch {epoch}')\n",
    "            break\n",
    "            \n",
    "        if epoch % 10 == 0:\n",
    "            print(f'Epoch {epoch}: \\n Train Loss: {avg_train_loss:.4f}, \\n Val Loss: {avg_val_loss:.4f} \\n Test Loss: {avg_test_loss:.4f}')\n",
    "            print(f'Val R2: {np.mean(val_r2):.4f}, \\n'\n",
    "                  f'Test R2: {np.mean(test_r2):.4f}')\n",
    "            \n",
    "        return avg_test_loss, avg_val_loss, avg_train_loss, val_r2, test_r2\n",
    "            \n",
    "       "
   ]
  },
  {
   "cell_type": "code",
   "execution_count": 172,
   "metadata": {},
   "outputs": [],
   "source": [
    "X_train = pd.read_csv(\"data/X_train_scaled.csv\")\n",
    "y_train = pd.read_csv(\"data/y_train_scaled.csv\")\n",
    "X_test = pd.read_csv(\"data/X_test_scaled.csv\")\n",
    "y_test = pd.read_csv(\"data/y_test_scaled.csv\")\n",
    "X_val = pd.read_csv(\"data/X_val_scaled.csv\")\n",
    "y_val = pd.read_csv(\"data/y_val_scaled.csv\")\n",
    "\n",
    "scaler_y = pickle.load(open(\"data/scaler_y.pkl\", \"rb\"))\n",
    "scaler_X = pickle.load(open(\"data/scaler_X.pkl\", \"rb\"))\n",
    "scalers = pickle.load(open(\"data/scalers.pkl\", \"rb\"))\n",
    "\n",
    "\n",
    "X_train_tensor = torch.FloatTensor(X_train.values) \n",
    "y_train_tensor = torch.FloatTensor(y_train.values)\n",
    "\n",
    "train_dataset=TensorDataset(X_train_tensor,y_train_tensor)\n",
    "\n",
    "X_test_tensor = torch.FloatTensor(X_test.values) \n",
    "y_test_tensor = torch.FloatTensor(y_test.values)\n",
    "\n",
    "test_dataset=TensorDataset(X_test_tensor,y_test_tensor)\n",
    "\n",
    "X_val_tensor = torch.FloatTensor(X_val.values) \n",
    "y_val_tensor = torch.FloatTensor(y_val.values)\n",
    "\n",
    "val_dataset=TensorDataset(X_val_tensor,y_val_tensor)\n",
    "\n",
    "\n",
    "batch_size = 32\n",
    "train_data_loader = DataLoader(train_dataset, batch_size=batch_size, shuffle=True)\n",
    "val_data_loader = DataLoader(val_dataset, batch_size=batch_size, shuffle=False)\n",
    "test_data_loader = DataLoader(test_dataset, batch_size=batch_size, shuffle=False)\n"
   ]
  },
  {
   "cell_type": "code",
   "execution_count": 173,
   "metadata": {},
   "outputs": [
    {
     "name": "stderr",
     "output_type": "stream",
     "text": [
      "  0%|          | 0/50 [00:01<?, ?it/s]"
     ]
    },
    {
     "name": "stdout",
     "output_type": "stream",
     "text": [
      "Epoch 0: \n",
      " Train Loss: 0.2627, \n",
      " Val Loss: 0.0383 \n",
      " Test Loss: 0.0375\n",
      "Val R2: 0.9596, \n",
      "Test R2: 0.9613\n"
     ]
    },
    {
     "name": "stderr",
     "output_type": "stream",
     "text": [
      "\n"
     ]
    },
    {
     "data": {
      "text/plain": [
       "(0.03751357157338173,\n",
       " 0.038292456576798826,\n",
       " 0.26269428743279144,\n",
       " np.float32(0.95958364),\n",
       " np.float32(0.9613352))"
      ]
     },
     "execution_count": 173,
     "metadata": {},
     "output_type": "execute_result"
    }
   ],
   "source": [
    "model = CarPriceNN(10)\n",
    "train_model(model,train_data_loader,val_data_loader,test_data_loader)"
   ]
  },
  {
   "cell_type": "markdown",
   "metadata": {},
   "source": []
  },
  {
   "cell_type": "code",
   "execution_count": 174,
   "metadata": {},
   "outputs": [],
   "source": [
    "X_train = pd.read_csv(\"data/X_train_scaled.csv\")\n",
    "y_train = pd.read_csv(\"data/y_train_scaled.csv\")\n",
    "X_test = pd.read_csv(\"data/X_test_scaled.csv\")\n",
    "y_test = pd.read_csv(\"data/y_test_scaled.csv\")\n",
    "X_val = pd.read_csv(\"data/X_val_scaled.csv\")\n",
    "y_val = pd.read_csv(\"data/y_val_scaled.csv\")\n"
   ]
  },
  {
   "cell_type": "code",
   "execution_count": 175,
   "metadata": {},
   "outputs": [
    {
     "name": "stdout",
     "output_type": "stream",
     "text": [
      "\n",
      "Running trial with seed 42\n"
     ]
    },
    {
     "name": "stderr",
     "output_type": "stream",
     "text": [
      "  0%|          | 0/50 [00:00<?, ?it/s]\n"
     ]
    },
    {
     "name": "stdout",
     "output_type": "stream",
     "text": [
      "Epoch 0: \n",
      " Train Loss: 0.2721, \n",
      " Val Loss: 0.0051 \n",
      " Test Loss: 0.0048\n",
      "Val R2: 0.9946, \n",
      "Test R2: 0.9950\n",
      "MSE: 0.0048\n",
      "R2 Score: 0.9950\n",
      "\n",
      "Running trial with seed 43\n"
     ]
    },
    {
     "name": "stderr",
     "output_type": "stream",
     "text": [
      "  0%|          | 0/50 [00:00<?, ?it/s]\n"
     ]
    },
    {
     "name": "stdout",
     "output_type": "stream",
     "text": [
      "Epoch 0: \n",
      " Train Loss: 0.1880, \n",
      " Val Loss: 0.0052 \n",
      " Test Loss: 0.0052\n",
      "Val R2: 0.9945, \n",
      "Test R2: 0.9946\n",
      "MSE: 0.0052\n",
      "R2 Score: 0.9946\n",
      "\n",
      "Running trial with seed 44\n"
     ]
    },
    {
     "name": "stderr",
     "output_type": "stream",
     "text": [
      "  0%|          | 0/50 [00:00<?, ?it/s]\n"
     ]
    },
    {
     "name": "stdout",
     "output_type": "stream",
     "text": [
      "Epoch 0: \n",
      " Train Loss: 0.1862, \n",
      " Val Loss: 0.0042 \n",
      " Test Loss: 0.0044\n",
      "Val R2: 0.9955, \n",
      "Test R2: 0.9955\n",
      "MSE: 0.0044\n",
      "R2 Score: 0.9955\n",
      "\n",
      "Running trial with seed 45\n"
     ]
    },
    {
     "name": "stderr",
     "output_type": "stream",
     "text": [
      "  0%|          | 0/50 [00:00<?, ?it/s]\n"
     ]
    },
    {
     "name": "stdout",
     "output_type": "stream",
     "text": [
      "Epoch 0: \n",
      " Train Loss: 0.1864, \n",
      " Val Loss: 0.0038 \n",
      " Test Loss: 0.0038\n",
      "Val R2: 0.9960, \n",
      "Test R2: 0.9960\n",
      "MSE: 0.0038\n",
      "R2 Score: 0.9960\n",
      "\n",
      "Running trial with seed 46\n"
     ]
    },
    {
     "name": "stderr",
     "output_type": "stream",
     "text": [
      "  0%|          | 0/50 [00:00<?, ?it/s]\n"
     ]
    },
    {
     "name": "stdout",
     "output_type": "stream",
     "text": [
      "Epoch 0: \n",
      " Train Loss: 0.2050, \n",
      " Val Loss: 0.0054 \n",
      " Test Loss: 0.0055\n",
      "Val R2: 0.9943, \n",
      "Test R2: 0.9943\n",
      "MSE: 0.0055\n",
      "R2 Score: 0.9943\n",
      "\n",
      "Running trial with seed 100\n"
     ]
    },
    {
     "name": "stderr",
     "output_type": "stream",
     "text": [
      "  0%|          | 0/50 [00:00<?, ?it/s]\n"
     ]
    },
    {
     "name": "stdout",
     "output_type": "stream",
     "text": [
      "Epoch 0: \n",
      " Train Loss: 0.2615, \n",
      " Val Loss: 0.0054 \n",
      " Test Loss: 0.0054\n",
      "Val R2: 0.9943, \n",
      "Test R2: 0.9944\n",
      "MSE: 0.0054\n",
      "R2 Score: 0.9944\n",
      "\n",
      "Running trial with seed 200\n"
     ]
    },
    {
     "name": "stderr",
     "output_type": "stream",
     "text": [
      "  0%|          | 0/50 [00:00<?, ?it/s]\n"
     ]
    },
    {
     "name": "stdout",
     "output_type": "stream",
     "text": [
      "Epoch 0: \n",
      " Train Loss: 0.1949, \n",
      " Val Loss: 0.0057 \n",
      " Test Loss: 0.0057\n",
      "Val R2: 0.9940, \n",
      "Test R2: 0.9941\n",
      "MSE: 0.0057\n",
      "R2 Score: 0.9941\n",
      "\n",
      "Running trial with seed 400\n"
     ]
    },
    {
     "name": "stderr",
     "output_type": "stream",
     "text": [
      "  0%|          | 0/50 [00:00<?, ?it/s]\n"
     ]
    },
    {
     "name": "stdout",
     "output_type": "stream",
     "text": [
      "Epoch 0: \n",
      " Train Loss: 0.2425, \n",
      " Val Loss: 0.0055 \n",
      " Test Loss: 0.0052\n",
      "Val R2: 0.9942, \n",
      "Test R2: 0.9946\n",
      "MSE: 0.0052\n",
      "R2 Score: 0.9946\n",
      "\n",
      "Running trial with seed 333\n"
     ]
    },
    {
     "name": "stderr",
     "output_type": "stream",
     "text": [
      "  0%|          | 0/50 [00:00<?, ?it/s]\n"
     ]
    },
    {
     "name": "stdout",
     "output_type": "stream",
     "text": [
      "Epoch 0: \n",
      " Train Loss: 0.2674, \n",
      " Val Loss: 0.0056 \n",
      " Test Loss: 0.0056\n",
      "Val R2: 0.9941, \n",
      "Test R2: 0.9942\n",
      "MSE: 0.0056\n",
      "R2 Score: 0.9942\n",
      "\n",
      "Running trial with seed 73\n"
     ]
    },
    {
     "name": "stderr",
     "output_type": "stream",
     "text": [
      "  0%|          | 0/50 [00:00<?, ?it/s]"
     ]
    },
    {
     "name": "stdout",
     "output_type": "stream",
     "text": [
      "Epoch 0: \n",
      " Train Loss: 0.2060, \n",
      " Val Loss: 0.0047 \n",
      " Test Loss: 0.0051\n",
      "Val R2: 0.9951, \n",
      "Test R2: 0.9947\n",
      "MSE: 0.0051\n",
      "R2 Score: 0.9947\n",
      "\n",
      "Overall Results:\n",
      "Average Test Loss: 0.0051\n",
      "Average Test r2 Score: 0.9948\n"
     ]
    },
    {
     "name": "stderr",
     "output_type": "stream",
     "text": [
      "\n"
     ]
    }
   ],
   "source": [
    "\n",
    "def set_seed(seed):\n",
    "    \"\"\"Set all random seeds for reproducibility\"\"\"\n",
    "    np.random.seed(seed)\n",
    "    torch.manual_seed(seed)\n",
    "    if torch.cuda.is_available():\n",
    "        torch.cuda.manual_seed(seed)\n",
    "        torch.cuda.manual_seed_all(seed)\n",
    "    torch.backends.cudnn.deterministic = True\n",
    "\n",
    "def run_trial(seed, X_train, y_train, X_val, y_val, X_test, y_test):\n",
    "    \"\"\"Run a single trial with given random seed\"\"\"\n",
    "    # Set the seed\n",
    "    set_seed(seed)\n",
    "    \n",
    "    # Create datasets\n",
    "    X_train_tensor = torch.FloatTensor(X_train.values) \n",
    "    y_train_tensor = torch.FloatTensor(y_train.values)\n",
    "\n",
    "    train_dataset=TensorDataset(X_train_tensor,y_train_tensor)\n",
    "\n",
    "    X_test_tensor = torch.FloatTensor(X_test.values) \n",
    "    y_test_tensor = torch.FloatTensor(y_test.values)\n",
    "\n",
    "    test_dataset=TensorDataset(X_test_tensor,y_test_tensor)\n",
    "\n",
    "    X_val_tensor = torch.FloatTensor(X_val.values) \n",
    "    y_val_tensor = torch.FloatTensor(y_val.values)\n",
    "\n",
    "    val_dataset=TensorDataset(X_val_tensor,y_val_tensor)\n",
    "\n",
    "\n",
    "    batch_size = 32\n",
    "    train_data_loader = DataLoader(train_dataset, batch_size=batch_size, shuffle=True)\n",
    "    val_data_loader = DataLoader(val_dataset, batch_size=batch_size, shuffle=False)\n",
    "    test_data_loader = DataLoader(test_dataset, batch_size=batch_size, shuffle=False)\n",
    "    \n",
    "\n",
    "    \n",
    "    # Initialize model\n",
    "    input_dim = X_train.shape[1]\n",
    "    model = CarPriceNet(input_dim)\n",
    "    \n",
    "    # Train model\n",
    "    avg_test_loss, avg_val_loss, avg_train_loss, val_r2, test_r2 = train_model(model, train_data_loader, val_data_loader, test_data_loader)\n",
    "\n",
    "    return avg_test_loss, avg_val_loss, avg_train_loss, val_r2, test_r2\n",
    "\n",
    "\n",
    "\n",
    "    \n",
    "\n",
    "# Run multiple trials with different seeds\n",
    "seeds = [42, 43, 44, 45, 46, 100, 200, 400, 333, 73] \n",
    "results = []\n",
    "\n",
    "for seed in seeds:\n",
    "    print(f\"\\nRunning trial with seed {seed}\")\n",
    "    avg_test_loss, avg_val_loss, avg_train_loss, val_r2, test_r2 = run_trial(seed, X_train, y_train, X_val, y_val, X_test, y_test)\n",
    "    results.append({\n",
    "        'seed': seed,\n",
    "        'val loss': avg_val_loss,   \n",
    "        'test loss': avg_test_loss,\n",
    "        'train loss': avg_train_loss,\n",
    "        'val r2': val_r2,\n",
    "        'test r2': test_r2\n",
    "    })\n",
    "    print(f\"MSE: {avg_test_loss:.4f}\")\n",
    "    print(f\"R2 Score: {test_r2:.4f}\")\n",
    "\n",
    "# Calculate average performance\n",
    "avg_mse_test = np.mean([r['test loss'] for r in results])\n",
    "avg_r2_test = np.mean([r['test r2'] for r in results])\n",
    "avg_mse_val = np.mean([r['val loss'] for r in results])\n",
    "avg_r2_val = np.mean([r['val r2'] for r in results])\n",
    "\n",
    "print(\"\\nOverall Results:\")\n",
    "print(f\"Average Test Loss: {avg_mse_test:.4f}\")\n",
    "print(f\"Average Test r2 Score: {avg_r2_test:.4f}\")\n",
    "\n",
    "# Print individual results\n"
   ]
  },
  {
   "cell_type": "code",
   "execution_count": null,
   "metadata": {},
   "outputs": [],
   "source": []
  }
 ],
 "metadata": {
  "kernelspec": {
   "display_name": "Python 3",
   "language": "python",
   "name": "python3"
  },
  "language_info": {
   "codemirror_mode": {
    "name": "ipython",
    "version": 3
   },
   "file_extension": ".py",
   "mimetype": "text/x-python",
   "name": "python",
   "nbconvert_exporter": "python",
   "pygments_lexer": "ipython3",
   "version": "3.9.21"
  }
 },
 "nbformat": 4,
 "nbformat_minor": 2
}
