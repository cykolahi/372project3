{
 "cells": [
  {
   "cell_type": "markdown",
   "metadata": {},
   "source": [
    "Car Price Prediction: Machine Leaning Models\n",
    "\n",
    "Cyrus Kolahi\n",
    "\n",
    "run proj3_data_preprocess.ipynb to preprocess and create train and test set"
   ]
  },
  {
   "cell_type": "code",
   "execution_count": 2,
   "metadata": {},
   "outputs": [],
   "source": [
    "import numpy as np\n",
    "import pandas as pd\n",
    "import matplotlib.pyplot as plt\n",
    "import seaborn as sns\n",
    "import sklearn as skl\n",
    "import sklearn.utils, sklearn.preprocessing, sklearn.decomposition, sklearn.svm\n",
    "import torch\n",
    "import torch.nn as nn\n",
    "import torch.optim as optim\n",
    "import torch.utils.data as data\n",
    "import torchvision\n",
    "import torchvision.transforms as transforms\n",
    "\n",
    "from sklearn.linear_model import LinearRegression\n",
    "from sklearn.kernel_ridge import KernelRidge\n",
    "from sklearn.svm import SVR\n",
    "from sklearn.tree import DecisionTreeRegressor\n",
    "from sklearn.ensemble import RandomForestRegressor\n",
    "from sklearn.metrics import mean_squared_error, r2_score\n",
    "#from tensorflow.keras.models import Sequential\n",
    "#from tensorflow.keras.layers import Dense\n",
    "# Linear Regression\n",
    "\n"
   ]
  },
  {
   "cell_type": "markdown",
   "metadata": {},
   "source": [
    "load data from data folder"
   ]
  },
  {
   "cell_type": "code",
   "execution_count": 3,
   "metadata": {},
   "outputs": [],
   "source": [
    "X_train = pd.read_csv(\"data/X_train.csv\")\n",
    "X_test = pd.read_csv(\"data/X_test.csv\")\n",
    "y_train = pd.read_csv(\"data/y_train.csv\")\n",
    "y_test = pd.read_csv(\"data/y_test.csv\")\n"
   ]
  },
  {
   "cell_type": "markdown",
   "metadata": {},
   "source": [
    "Modeling"
   ]
  },
  {
   "cell_type": "code",
   "execution_count": 4,
   "metadata": {},
   "outputs": [
    {
     "name": "stdout",
     "output_type": "stream",
     "text": [
      "Linear Regression Results:\n",
      "MSE: 4171.73\n",
      "R2 Score: 1.00\n",
      "\n"
     ]
    }
   ],
   "source": [
    "# Linear Regression\n",
    "LinReg = LinearRegression()\n",
    "LinReg.fit(X_train, y_train)\n",
    "lr_pred = LinReg.predict(X_test)\n",
    "print(\"Linear Regression Results:\")\n",
    "print(f\"MSE: {mean_squared_error(y_test, lr_pred):.2f}\")\n",
    "print(f\"R2 Score: {r2_score(y_test, lr_pred):.2f}\\n\")"
   ]
  },
  {
   "cell_type": "code",
   "execution_count": null,
   "metadata": {},
   "outputs": [
    {
     "name": "stdout",
     "output_type": "stream",
     "text": [
      "Intel MKL WARNING: Support of Intel(R) Streaming SIMD Extensions 4.2 (Intel(R) SSE4.2) enabled only processors has been deprecated. Intel oneAPI Math Kernel Library 2025.0 will require Intel(R) Advanced Vector Extensions (Intel(R) AVX) instructions.\n"
     ]
    }
   ],
   "source": [
    "# Kernel Ridge Regression with different kernels\n",
    "kernels = ['linear', 'rbf', 'poly']\n",
    "for kernel in kernels:\n",
    "    kr = KernelRidge(kernel=kernel)\n",
    "    kr.fit(X_train, y_train)\n",
    "    kr_pred = kr.predict(X_test)\n",
    "    print(f\"Kernel Ridge Regression ({kernel} kernel) Results:\")\n",
    "    print(f\"MSE: {mean_squared_error(y_test, kr_pred):.2f}\")\n",
    "    print(f\"R2 Score: {r2_score(y_test, kr_pred):.2f}\\n\")\n"
   ]
  },
  {
   "cell_type": "code",
   "execution_count": null,
   "metadata": {},
   "outputs": [],
   "source": [
    "# Support Vector Regression with different kernels\n",
    "for kernel in ['linear', 'rbf', 'poly']:\n",
    "    svr = SVR(kernel=kernel)\n",
    "    svr.fit(X_train, y_train)\n",
    "    svr_pred = svr.predict(X_test)\n",
    "    print(f\"Support Vector Regression ({kernel} kernel) Results:\")\n",
    "    print(f\"MSE: {mean_squared_error(y_test, svr_pred):.2f}\")\n",
    "    print(f\"R2 Score: {r2_score(y_test, svr_pred):.2f}\\n\")\n"
   ]
  },
  {
   "cell_type": "code",
   "execution_count": null,
   "metadata": {},
   "outputs": [],
   "source": [
    "# Decision Tree\n",
    "dt = DecisionTreeRegressor(random_state=42)\n",
    "dt.fit(X_train, y_train)\n",
    "dt_pred = dt.predict(X_test)\n",
    "print(\"Decision Tree Results:\")\n",
    "print(f\"MSE: {mean_squared_error(y_test, dt_pred):.2f}\")\n",
    "print(f\"R2 Score: {r2_score(y_test, dt_pred):.2f}\\n\")"
   ]
  },
  {
   "cell_type": "code",
   "execution_count": null,
   "metadata": {},
   "outputs": [],
   "source": [
    "# Random Forest\n",
    "rf = RandomForestRegressor(n_estimators=100, random_state=42)\n",
    "rf.fit(X_train, y_train)\n",
    "rf_pred = rf.predict(X_test)\n",
    "print(\"Random Forest Results:\")\n",
    "print(f\"MSE: {mean_squared_error(y_test, rf_pred):.2f}\")\n",
    "print(f\"R2 Score: {r2_score(y_test, rf_pred):.2f}\\n\")\n"
   ]
  },
  {
   "cell_type": "code",
   "execution_count": null,
   "metadata": {},
   "outputs": [],
   "source": [
    "# Neural Network with multiple random seeds\n",
    "def create_model():\n",
    "    model = Sequential([\n",
    "        Dense(64, activation='relu', input_shape=(X_train.shape[1],)),\n",
    "        Dense(32, activation='relu'),\n",
    "        Dense(16, activation='relu'),\n",
    "        Dense(1)\n",
    "    ])\n",
    "    model.compile(optimizer='adam', loss='mse')\n",
    "    return model\n",
    "\n",
    "random_seeds = range(42, 52)  # 10 different random seeds\n",
    "nn_results = []\n",
    "\n",
    "for seed in random_seeds:\n",
    "    np.random.seed(seed)\n",
    "    model = create_model()\n",
    "    model.fit(X_train, y_train, epochs=50, batch_size=32, verbose=0)\n",
    "    nn_pred = model.predict(X_test)\n",
    "    nn_results.append({\n",
    "        'mse': mean_squared_error(y_test, nn_pred),\n",
    "        'r2': r2_score(y_test, nn_pred)\n",
    "    })\n",
    "\n",
    "avg_mse = np.mean([result['mse'] for result in nn_results])\n",
    "avg_r2 = np.mean([result['r2'] for result in nn_results])\n",
    "print(\"Neural Network Results (averaged over 10 random seeds):\")\n",
    "print(f\"Average MSE: {avg_mse:.2f}\")\n",
    "print(f\"Average R2 Score: {avg_r2:.2f}\")\n"
   ]
  }
 ],
 "metadata": {
  "kernelspec": {
   "display_name": "dlproject_new",
   "language": "python",
   "name": "python3"
  },
  "language_info": {
   "codemirror_mode": {
    "name": "ipython",
    "version": 3
   },
   "file_extension": ".py",
   "mimetype": "text/x-python",
   "name": "python",
   "nbconvert_exporter": "python",
   "pygments_lexer": "ipython3",
   "version": "3.10.16"
  }
 },
 "nbformat": 4,
 "nbformat_minor": 2
}
